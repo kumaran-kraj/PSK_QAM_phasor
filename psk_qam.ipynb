{
 "cells": [
  {
   "cell_type": "code",
   "execution_count": 1,
   "metadata": {},
   "outputs": [],
   "source": [
    "import matplotlib.pyplot as plt\n",
    "import math\n",
    "def md(n):\n",
    "    if n<0:\n",
    "        return -n\n",
    "    else:\n",
    "        return n"
   ]
  },
  {
   "cell_type": "code",
   "execution_count": 2,
   "metadata": {},
   "outputs": [],
   "source": [
    "def NT(ins):#string binary not gate\n",
    "    opt=\"\"\n",
    "    for c in ins:\n",
    "        if c=='0':\n",
    "            opt+='1'\n",
    "        else:\n",
    "            opt+='0'\n",
    "    return opt"
   ]
  },
  {
   "cell_type": "code",
   "execution_count": 3,
   "metadata": {},
   "outputs": [],
   "source": [
    "def ttgen(lst,n):#truth table generator\n",
    "    rt=[]\n",
    "    for i in lst:\n",
    "        rt.append(i+\"1\")\n",
    "    for i in lst:\n",
    "        rt.append(i+\"0\")\n",
    "    if n<=1:\n",
    "        return rt\n",
    "    else:\n",
    "        return ttgen(rt,n-1)\n"
   ]
  },
  {
   "cell_type": "code",
   "execution_count": 4,
   "metadata": {},
   "outputs": [],
   "source": [
    "#PSK modulation voltages for each side of I, Q modulators (90 deg off phase from eachother)"
   ]
  },
  {
   "cell_type": "code",
   "execution_count": 5,
   "metadata": {},
   "outputs": [],
   "source": [
    "psk32v={\n",
    "    \"000\":0.139,\n",
    "    \"001\":0.410,\n",
    "    \"010\":0.666,\n",
    "    \"011\":0.897,\n",
    "    \"100\":1.093,\n",
    "    \"101\":1.247,\n",
    "    \"110\":1.353,\n",
    "    \"111\":1.407\n",
    "}"
   ]
  },
  {
   "cell_type": "code",
   "execution_count": 6,
   "metadata": {},
   "outputs": [],
   "source": [
    "psk16v={\n",
    "    \"00\":0.273,\n",
    "    \"01\":0.785,\n",
    "    \"10\":1.175,\n",
    "    \"11\":1.385\n",
    "}"
   ]
  },
  {
   "cell_type": "code",
   "execution_count": 7,
   "metadata": {},
   "outputs": [],
   "source": [
    "#QAM modulation voltages for each side of I, Q modulators (90 deg off phase from eachother)"
   ]
  },
  {
   "cell_type": "code",
   "execution_count": 8,
   "metadata": {},
   "outputs": [],
   "source": []
  },
  {
   "cell_type": "code",
   "execution_count": 22,
   "metadata": {},
   "outputs": [],
   "source": [
    "qam16v={\n",
    "    \"00\":-3,\n",
    "    \"01\":-1,\n",
    "    \"10\":1,\n",
    "    \"11\":3,\n",
    "}"
   ]
  },
  {
   "cell_type": "code",
   "execution_count": 9,
   "metadata": {},
   "outputs": [],
   "source": [
    "qam32v={\n",
    "    \"000\":-7,\n",
    "    \"001\":-5,\n",
    "    \"010\":-3,\n",
    "    \"011\":-1,\n",
    "    \"100\":1,\n",
    "    \"101\":3,\n",
    "    \"110\":5,\n",
    "    \"111\":7\n",
    "}"
   ]
  },
  {
   "cell_type": "code",
   "execution_count": 10,
   "metadata": {},
   "outputs": [
    {
     "name": "stdout",
     "output_type": "stream",
     "text": [
      "enter number of divisions32\n"
     ]
    }
   ],
   "source": [
    "adiv=32\n",
    "adiv=int(input(\"enter number of divisions\"))\n",
    "mul=0.70735\n",
    "sepa=360/adiv\n",
    "\n",
    "st=sepa/2\n",
    "\n",
    "pointset=set()\n",
    "\n",
    "x=[]\n",
    "y=[]\n",
    "i= st"
   ]
  },
  {
   "cell_type": "code",
   "execution_count": 11,
   "metadata": {},
   "outputs": [
    {
     "name": "stdout",
     "output_type": "stream",
     "text": [
      "enter number of divisions32\n",
      "ang 5.625 ( 0.098 , 0.995 )\n",
      "ang 16.875 ( 0.290 , 0.957 )\n",
      "ang 28.125 ( 0.471 , 0.882 )\n",
      "ang 39.375 ( 0.634 , 0.773 )\n",
      "ang 50.625 ( 0.773 , 0.634 )\n",
      "ang 61.875 ( 0.882 , 0.471 )\n",
      "ang 73.125 ( 0.957 , 0.290 )\n",
      "ang 84.375 ( 0.995 , 0.098 )\n",
      "ang 95.625 ( 0.995 , -0.098 )\n",
      "ang 106.875 ( 0.957 , -0.290 )\n",
      "ang 118.125 ( 0.882 , -0.471 )\n",
      "ang 129.375 ( 0.773 , -0.634 )\n",
      "ang 140.625 ( 0.634 , -0.773 )\n",
      "ang 151.875 ( 0.471 , -0.882 )\n",
      "ang 163.125 ( 0.290 , -0.957 )\n",
      "ang 174.375 ( 0.098 , -0.995 )\n",
      "ang 185.625 ( -0.098 , -0.995 )\n",
      "ang 196.875 ( -0.290 , -0.957 )\n",
      "ang 208.125 ( -0.471 , -0.882 )\n",
      "ang 219.375 ( -0.634 , -0.773 )\n",
      "ang 230.625 ( -0.773 , -0.634 )\n",
      "ang 241.875 ( -0.882 , -0.471 )\n",
      "ang 253.125 ( -0.957 , -0.290 )\n",
      "ang 264.375 ( -0.995 , -0.098 )\n",
      "ang 275.625 ( -0.995 , 0.098 )\n",
      "ang 286.875 ( -0.957 , 0.290 )\n",
      "ang 298.125 ( -0.882 , 0.471 )\n",
      "ang 309.375 ( -0.773 , 0.634 )\n",
      "ang 320.625 ( -0.634 , 0.773 )\n",
      "ang 331.875 ( -0.471 , 0.882 )\n",
      "ang 343.125 ( -0.290 , 0.957 )\n",
      "ang 354.375 ( -0.098 , 0.995 )\n",
      "sorted output voltage vales of modulators\n",
      "0.098\n",
      "0.290\n",
      "0.471\n",
      "0.634\n",
      "0.773\n",
      "0.882\n",
      "0.957\n",
      "0.995\n"
     ]
    },
    {
     "data": {
      "image/png": "[encoded data removed]",
      "text/plain": [
       "<Figure size 360x360 with 1 Axes>"
      ]
     },
     "metadata": {
      "needs_background": "light"
     },
     "output_type": "display_data"
    }
   ],
   "source": [
    "adiv=32\n",
    "adiv=int(input(\"enter number of divisions\"))\n",
    "mul=1\n",
    "#mul=0.70735\n",
    "#mul=int(input(\"enter voltage scaling\"))\n",
    "sepa=360/adiv\n",
    "\n",
    "st=sepa/2\n",
    "\n",
    "pointset=set()\n",
    "\n",
    "x=[]\n",
    "y=[]\n",
    "i= st\n",
    "while(i<=360):\n",
    "    print(\"ang\",i, end =\" \")\n",
    "    x.append(math.sin(math.radians(i))/mul)\n",
    "    y.append(math.cos(math.radians(i))/mul)\n",
    "    print(\"(\",\"{:.3f}\".format((x[-1])),\",\",\"{:.3f}\".format((y[-1])),\")\")\n",
    "\n",
    "    ffv=\"{:.3f}\".format(md(x[-1]))\n",
    "    pointset.add(ffv)\n",
    "    ffv=\"{:.3f}\".format(md(y[-1]))\n",
    "    pointset.add(ffv)\n",
    "    i+=sepa\n",
    "    \n",
    "print(\"sorted output voltage vales of modulators\")\n",
    "sortedpoints=sorted(pointset)\n",
    "for i in sortedpoints:\n",
    "    print (i)\n",
    "    \n",
    "    \n",
    "plt.scatter(x, y, color= \"green\",  marker= \".\", s=30) \n",
    "\n",
    "plt.scatter(0, 0, color= \"blue\",  marker= \".\", s=30) \n",
    "plt.axhline(y=0, color='black', linestyle='-',linewidth=1)\n",
    "plt.axvline(x=0, color='black', linestyle='-',linewidth=1)\n",
    "\n",
    "# x-axis label \n",
    "plt.xlabel('x - axis') \n",
    "# frequency label \n",
    "plt.ylabel('y - axis') \n",
    "# plot title \n",
    "plt.title('My scatter plot!') \n",
    "# showing legend \n",
    "#plt.legend() \n",
    "fig = plt.gcf()\n",
    "fig.set_size_inches(5,5)\n",
    "# function to show the plot \n",
    "plt.show()"
   ]
  },
  {
   "cell_type": "code",
   "execution_count": 12,
   "metadata": {},
   "outputs": [
    {
     "name": "stdout",
     "output_type": "stream",
     "text": [
      "number of bits2\n",
      "11\n",
      "10\n",
      "01\n",
      "00\n"
     ]
    }
   ],
   "source": [
    "n_bits=2\n",
    "n_bits=int(input(\"number of bits\"))\n",
    "rt=ttgen([\"\"],n_bits)\n",
    "for i in rt:\n",
    "    print(i[::-1])"
   ]
  },
  {
   "attachments": {},
   "cell_type": "raw",
   "metadata": {},
   "source": []
  },
  {
   "cell_type": "code",
   "execution_count": 13,
   "metadata": {},
   "outputs": [
    {
     "name": "stdout",
     "output_type": "stream",
     "text": [
      "bin \t stx sty \t coordinate\n",
      "00000 \t 000 001 ( -7.000 , -5.000 )\n",
      "00001 \t 001 000 ( -5.000 , -7.000 )\n",
      "00010 \t 000 011 ( -7.000 , -1.000 )\n",
      "00011 \t 001 010 ( -5.000 , -3.000 )\n",
      "00100 \t 000 101 ( -7.000 , 3.000 )\n",
      "00101 \t 001 100 ( -5.000 , 1.000 )\n",
      "00110 \t 000 111 ( -7.000 , 7.000 )\n",
      "00111 \t 001 110 ( -5.000 , 5.000 )\n",
      "01000 \t 010 001 ( -3.000 , -5.000 )\n",
      "01001 \t 011 000 ( -1.000 , -7.000 )\n",
      "01010 \t 010 011 ( -3.000 , -1.000 )\n",
      "01011 \t 011 010 ( -1.000 , -3.000 )\n",
      "01100 \t 010 101 ( -3.000 , 3.000 )\n",
      "01101 \t 011 100 ( -1.000 , 1.000 )\n",
      "01110 \t 010 111 ( -3.000 , 7.000 )\n",
      "01111 \t 011 110 ( -1.000 , 5.000 )\n",
      "10000 \t 100 001 ( 1.000 , -5.000 )\n",
      "10001 \t 101 000 ( 3.000 , -7.000 )\n",
      "10010 \t 100 011 ( 1.000 , -1.000 )\n",
      "10011 \t 101 010 ( 3.000 , -3.000 )\n",
      "10100 \t 100 101 ( 1.000 , 3.000 )\n",
      "10101 \t 101 100 ( 3.000 , 1.000 )\n",
      "10110 \t 100 111 ( 1.000 , 7.000 )\n",
      "10111 \t 101 110 ( 3.000 , 5.000 )\n",
      "11000 \t 110 001 ( 5.000 , -5.000 )\n",
      "11001 \t 111 000 ( 7.000 , -7.000 )\n",
      "11010 \t 110 011 ( 5.000 , -1.000 )\n",
      "11011 \t 111 010 ( 7.000 , -3.000 )\n",
      "11100 \t 110 101 ( 5.000 , 3.000 )\n",
      "11101 \t 111 100 ( 7.000 , 1.000 )\n",
      "11110 \t 110 111 ( 5.000 , 7.000 )\n",
      "11111 \t 111 110 ( 7.000 , 5.000 )\n"
     ]
    },
    {
     "data": {
      "image/png": "[encoded data removed]",
      "text/plain": [
       "<Figure size 432x432 with 1 Axes>"
      ]
     },
     "metadata": {
      "needs_background": "light"
     },
     "output_type": "display_data"
    }
   ],
   "source": [
    "x=[]\n",
    "y=[]\n",
    "binst=[]\n",
    "#fig, axs = plt.subplots(2)\n",
    "#fig.suptitle('Vertically stacked subplots')\n",
    "\n",
    "\n",
    "for i in range (0,32):\n",
    "    #print( (bin(i))[2:] )\n",
    "    binst.append(('{:05b}'.format(i)))\n",
    "\n",
    "print (\"bin\",\"\\t\",\"stx\",\"sty\",\"\\t coordinate\")\n",
    "for i in binst:\n",
    "    #print (i[:3],i[2:])\n",
    "    sty=i[2:4]+NT(i[4])\n",
    "    stx=i[0:2]+i[4]\n",
    "    print (i,\"\\t\",stx,sty, end=\" \")\n",
    "    \n",
    "    x.append(qam32v[stx])\n",
    "    y.append(qam32v[sty])\n",
    "    pst=\"(\"+str((x[-1]))+\",\"+str((y[-1]))+\")\"\n",
    "    print(\"(\",\"{:.3f}\".format((x[-1])),\",\",\"{:.3f}\".format((y[-1])),\")\")\n",
    "    #plt.annotate(pst, (x[-1], y[-1]))\n",
    "    plt.annotate(str(i), (x[-1], y[-1]))\n",
    "plt.scatter(x, y, color= \"green\",  marker= \".\", s=30) \n",
    "\n",
    "\n",
    "#plt.scatter(0, 0, color= \"blue\",  marker= \".\", s=30) \n",
    "plt.axhline(y=0, color='black', linestyle='-',linewidth=1)\n",
    "plt.axvline(x=0, color='black', linestyle='-',linewidth=1)\n",
    "\n",
    "fig = plt.gcf()\n",
    "fig.set_size_inches(6,6)\n",
    "\n",
    "plt.show()"
   ]
  },
  {
   "cell_type": "code",
   "execution_count": 19,
   "metadata": {},
   "outputs": [
    {
     "name": "stdout",
     "output_type": "stream",
     "text": [
      "bin \t stx sty \t coordinate\n",
      "00000 \t 000 001 ( -7.000 , -5.000 )\n",
      "00001 \t 001 000 ( -5.000 , -7.000 )\n",
      "00010 \t 000 011 ( -7.000 , -1.000 )\n",
      "00011 \t 001 010 ( -5.000 , -3.000 )\n",
      "00100 \t 000 101 ( -7.000 , 3.000 )\n",
      "00101 \t 001 100 ( -5.000 , 1.000 )\n",
      "00110 \t 000 111 ( -7.000 , 7.000 )\n",
      "00111 \t 001 110 ( -5.000 , 5.000 )\n",
      "01000 \t 010 001 ( -3.000 , -5.000 )\n",
      "01001 \t 011 000 ( -1.000 , -7.000 )\n",
      "01010 \t 010 011 ( -3.000 , -1.000 )\n",
      "01011 \t 011 010 ( -1.000 , -3.000 )\n",
      "01100 \t 010 101 ( -3.000 , 3.000 )\n",
      "01101 \t 011 100 ( -1.000 , 1.000 )\n",
      "01110 \t 010 111 ( -3.000 , 7.000 )\n",
      "01111 \t 011 110 ( -1.000 , 5.000 )\n",
      "10000 \t 100 001 ( 1.000 , -5.000 )\n",
      "10001 \t 101 000 ( 3.000 , -7.000 )\n",
      "10010 \t 100 011 ( 1.000 , -1.000 )\n",
      "10011 \t 101 010 ( 3.000 , -3.000 )\n",
      "10100 \t 100 101 ( 1.000 , 3.000 )\n",
      "10101 \t 101 100 ( 3.000 , 1.000 )\n",
      "10110 \t 100 111 ( 1.000 , 7.000 )\n",
      "10111 \t 101 110 ( 3.000 , 5.000 )\n",
      "11000 \t 110 001 ( 5.000 , -5.000 )\n",
      "11001 \t 111 000 ( 7.000 , -7.000 )\n",
      "11010 \t 110 011 ( 5.000 , -1.000 )\n",
      "11011 \t 111 010 ( 7.000 , -3.000 )\n",
      "11100 \t 110 101 ( 5.000 , 3.000 )\n",
      "11101 \t 111 100 ( 7.000 , 1.000 )\n",
      "11110 \t 110 111 ( 5.000 , 7.000 )\n",
      "11111 \t 111 110 ( 7.000 , 5.000 )\n"
     ]
    },
    {
     "data": {
      "image/png": "[encoded data removed]",
      "text/plain": [
       "<Figure size 432x864 with 2 Axes>"
      ]
     },
     "metadata": {
      "needs_background": "light"
     },
     "output_type": "display_data"
    }
   ],
   "source": [
    "x=[]\n",
    "y=[]\n",
    "binst=[]\n",
    "fig, axs = plt.subplots(2)\n",
    "fig.suptitle('phasor diagram')\n",
    "\n",
    "\n",
    "for i in range (0,32):\n",
    "    #print( (bin(i))[2:] )\n",
    "    binst.append(('{:05b}'.format(i)))\n",
    "\n",
    "print (\"bin\",\"\\t\",\"stx\",\"sty\",\"\\t coordinate\")\n",
    "for i in binst:\n",
    "    #print (i[:3],i[2:])\n",
    "    sty=i[2:4]+NT(i[4])\n",
    "    stx=i[0:2]+i[4]\n",
    "    print (i,\"\\t\",stx,sty, end=\" \")\n",
    "    \n",
    "    x.append(qam32v[stx])\n",
    "    y.append(qam32v[sty])\n",
    "    pst=\"(\"+str((x[-1]))+\",\"+str((y[-1]))+\")\"\n",
    "    print(\"(\",\"{:.3f}\".format((x[-1])),\",\",\"{:.3f}\".format((y[-1])),\")\")\n",
    "    axs[0].annotate(pst, (x[-1], y[-1]))\n",
    "    axs[1].annotate(str(i), (x[-1], y[-1]))\n",
    "axs[0].scatter(x, y, color= \"green\",  marker= \".\", s=30) \n",
    "axs[1].scatter(x, y, color= \"green\",  marker= \".\", s=30) \n",
    "\n",
    "axs[0].axhline(y=0, color='black', linestyle='-',linewidth=1)\n",
    "axs[0].axvline(x=0, color='black', linestyle='-',linewidth=1)\n",
    "\n",
    "axs[1].axhline(y=0, color='black', linestyle='-',linewidth=1)\n",
    "axs[1].axvline(x=0, color='black', linestyle='-',linewidth=1)\n",
    "\n",
    "#plt.show()\n",
    "fig.set_size_inches(6, 12)\n",
    "fig.tight_layout()"
   ]
  },
  {
   "cell_type": "code",
   "execution_count": 24,
   "metadata": {},
   "outputs": [
    {
     "name": "stdout",
     "output_type": "stream",
     "text": [
      "bin \t stx sty \t coordinate\n",
      "0000 \t 00 00 ( -3.000 , -3.000 )\n",
      "0001 \t 00 01 ( -3.000 , -1.000 )\n",
      "0010 \t 00 10 ( -3.000 , 1.000 )\n",
      "0011 \t 00 11 ( -3.000 , 3.000 )\n",
      "0100 \t 01 00 ( -1.000 , -3.000 )\n",
      "0101 \t 01 01 ( -1.000 , -1.000 )\n",
      "0110 \t 01 10 ( -1.000 , 1.000 )\n",
      "0111 \t 01 11 ( -1.000 , 3.000 )\n",
      "1000 \t 10 00 ( 1.000 , -3.000 )\n",
      "1001 \t 10 01 ( 1.000 , -1.000 )\n",
      "1010 \t 10 10 ( 1.000 , 1.000 )\n",
      "1011 \t 10 11 ( 1.000 , 3.000 )\n",
      "1100 \t 11 00 ( 3.000 , -3.000 )\n",
      "1101 \t 11 01 ( 3.000 , -1.000 )\n",
      "1110 \t 11 10 ( 3.000 , 1.000 )\n",
      "1111 \t 11 11 ( 3.000 , 3.000 )\n"
     ]
    },
    {
     "data": {
      "image/png": "[encoded data removed]",
      "text/plain": [
       "<Figure size 432x864 with 2 Axes>"
      ]
     },
     "metadata": {
      "needs_background": "light"
     },
     "output_type": "display_data"
    }
   ],
   "source": [
    "x=[]\n",
    "y=[]\n",
    "binst=[]\n",
    "fig, axs = plt.subplots(2)\n",
    "fig.suptitle('phasor diagram')\n",
    "\n",
    "\n",
    "for i in range (0,16):\n",
    "    #print( (bin(i))[2:] )\n",
    "    binst.append(('{:04b}'.format(i)))\n",
    "\n",
    "print (\"bin\",\"\\t\",\"stx\",\"sty\",\"\\t coordinate\")\n",
    "for i in binst:\n",
    "    #print (i[:3],i[2:])\n",
    "    sty=i[2:4]\n",
    "    stx=i[0:2]\n",
    "    print (i,\"\\t\",stx,sty, end=\" \")\n",
    "    \n",
    "    x.append(qam16v[stx])\n",
    "    y.append(qam16v[sty])\n",
    "    pst=\"(\"+str((x[-1]))+\",\"+str((y[-1]))+\")\"\n",
    "    print(\"(\",\"{:.3f}\".format((x[-1])),\",\",\"{:.3f}\".format((y[-1])),\")\")\n",
    "    axs[0].annotate(pst, (x[-1], y[-1]))\n",
    "    axs[1].annotate(str(i), (x[-1], y[-1]))\n",
    "axs[0].scatter(x, y, color= \"green\",  marker= \".\", s=30) \n",
    "axs[1].scatter(x, y, color= \"green\",  marker= \".\", s=30) \n",
    "\n",
    "axs[0].axhline(y=0, color='black', linestyle='-',linewidth=1)\n",
    "axs[0].axvline(x=0, color='black', linestyle='-',linewidth=1)\n",
    "\n",
    "axs[1].axhline(y=0, color='black', linestyle='-',linewidth=1)\n",
    "axs[1].axvline(x=0, color='black', linestyle='-',linewidth=1)\n",
    "\n",
    "#plt.show()\n",
    "fig.set_size_inches(6, 12)\n",
    "fig.tight_layout()"
   ]
  },
  {
   "cell_type": "code",
   "execution_count": null,
   "metadata": {},
   "outputs": [],
   "source": []
  }
 ],
 "metadata": {
  "kernelspec": {
   "display_name": "env1",
   "language": "python",
   "name": "env1"
  },
  "language_info": {
   "codemirror_mode": {
    "name": "ipython",
    "version": 3
   },
   "file_extension": ".py",
   "mimetype": "text/x-python",
   "name": "python",
   "nbconvert_exporter": "python",
   "pygments_lexer": "ipython3",
   "version": "3.8.5"
  }
 },
 "nbformat": 4,
 "nbformat_minor": 4
}
